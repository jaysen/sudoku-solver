{
 "nbformat": 4,
 "nbformat_minor": 2,
 "metadata": {
  "language_info": {
   "name": "python",
   "codemirror_mode": {
    "name": "ipython",
    "version": 3
   },
   "version": "3.7.6-final"
  },
  "orig_nbformat": 2,
  "file_extension": ".py",
  "mimetype": "text/x-python",
  "name": "python",
  "npconvert_exporter": "python",
  "pygments_lexer": "ipython3",
  "version": 3,
  "kernelspec": {
   "name": "python37664bitbaseconda1b6bf97d87384868956595312de8c352",
   "display_name": "Python 3.7.6 64-bit ('base': conda)"
  }
 },
 "cells": [
  {
   "cell_type": "markdown",
   "execution_count": null,
   "metadata": {},
   "outputs": [],
   "source": [
    "# Sudoku Solver\n"
   ]
  },
  {
   "cell_type": "markdown",
   "execution_count": null,
   "metadata": {},
   "outputs": [],
   "source": [
    "## Setup\n",
    "Create example gridset. Printable using numpy array  \n",
    "test prints"
   ]
  },
  {
   "cell_type": "code",
   "execution_count": null,
   "metadata": {},
   "outputs": [],
   "source": [
    "import numpy as np\n",
    "\n",
    "global grid\n",
    "grid =   np.matrix([[5,3,0,0,7,0,0,0,0],\n",
    "                    [6,0,0,1,9,5,0,0,0],\n",
    "                    [0,9,8,0,0,0,0,6,0],\n",
    "                    [8,0,0,0,6,0,0,0,3],\n",
    "                    [4,0,0,8,0,3,0,0,1],\n",
    "                    [7,0,0,0,2,0,0,0,6],\n",
    "                    [0,6,0,0,0,0,2,8,0],\n",
    "                    [0,0,0,4,1,9,0,0,5],\n",
    "                    [0,0,0,0,8,0,0,7,9]])\n",
    "\n",
    "print(grid)\n",
    "\n",
    "print()\n",
    "print(grid[:,3])\n"
   ]
  },
  {
   "cell_type": "code",
   "execution_count": 2,
   "metadata": {},
   "outputs": [],
   "source": [
    "import numpy as np\n",
    "\n",
    "global grid\n",
    "\n",
    "grid =   np.matrix([[1,0,0,2,0,0,0,0,7],\n",
    "                    [0,0,0,0,0,0,6,9,0],\n",
    "                    [7,0,0,3,0,0,8,0,0],\n",
    "                    [5,6,0,9,0,8,0,0,0],\n",
    "                    [0,2,0,7,0,0,0,0,1],\n",
    "                    [0,0,0,0,0,0,0,0,0],\n",
    "                    [0,0,4,0,7,0,0,0,5],\n",
    "                    [2,5,0,8,0,0,9,0,0],\n",
    "                    [0,0,0,0,4,0,0,0,0]])"
   ]
  },
  {
   "cell_type": "markdown",
   "execution_count": null,
   "metadata": {},
   "outputs": [],
   "source": [
    "## Function valid(x,y,n) \n",
    "returns true if n is valid in position x,y - else false\n"
   ]
  },
  {
   "cell_type": "code",
   "execution_count": 3,
   "metadata": {},
   "outputs": [
    {
     "name": "stdout",
     "output_type": "stream",
     "text": "current value at x,y is  0\n[[7 0 0 3 0 0 8 0 0]]\n[[0]\n [0]\n [0]\n [6]\n [2]\n [0]\n [0]\n [5]\n [0]]\n\nFalse\n"
    }
   ],
   "source": [
    "def valid_show_working(x,y, n):\n",
    "    global grid\n",
    "\n",
    "    #test prints:\n",
    "    print(\"current value at x,y is \", grid[x,y])\n",
    "    row = grid[x,:]\n",
    "    print(row)\n",
    "    col = grid[:,y]\n",
    "    print(col)\n",
    "    print()\n",
    "\n",
    "    # check vertical and horizontal\n",
    "    if (n in row): return False #vertical\n",
    "    if (n in col): return False #horizontal\n",
    "\n",
    "    # check local square\n",
    "    xO = (x // 3) * 3\n",
    "    yO = (y // 3) * 3\n",
    "    print(\"local square origin: \",xO,yO)\n",
    "    print(\"local square: \")    \n",
    "    block = grid[xO:xO+3,yO:yO+3]\n",
    "    print(block)\n",
    "    if (n in block): return False\n",
    "\n",
    "    return True\n",
    "\n",
    "print(valid_show_working(2,1,7))    "
   ]
  },
  {
   "cell_type": "code",
   "execution_count": 4,
   "metadata": {},
   "outputs": [
    {
     "name": "stdout",
     "output_type": "stream",
     "text": "False\n"
    }
   ],
   "source": [
    "def valid(x,y, n):\n",
    "    global grid\n",
    "\n",
    "    # check vertical and horizontal\n",
    "    row = grid[x,:]\n",
    "    col = grid[:,y]\n",
    "    if (n in row): return False #vertical\n",
    "    if (n in col): return False #horizontal\n",
    "\n",
    "    # check local square\n",
    "    xO = (x // 3) * 3\n",
    "    yO = (y // 3) * 3\n",
    "    block = grid[xO:xO+3,yO:yO+3]\n",
    "    if (n in block): return False\n",
    "\n",
    "    return True\n",
    "\n",
    "print(valid(2,1,7))    "
   ]
  },
  {
   "cell_type": "markdown",
   "execution_count": null,
   "metadata": {},
   "outputs": [],
   "source": [
    "## solve()\n",
    "Recursively brute force the grid to solve   "
   ]
  },
  {
   "cell_type": "code",
   "execution_count": 6,
   "metadata": {},
   "outputs": [
    {
     "name": "stdout",
     "output_type": "stream",
     "text": "[[1 9 6 2 8 4 3 5 7]\n [8 3 2 1 5 7 6 9 4]\n [7 4 5 3 9 6 8 1 2]\n [5 6 1 9 2 8 4 7 3]\n [4 2 9 7 6 3 5 8 1]\n [3 7 8 4 1 5 2 6 9]\n [9 8 4 6 7 2 1 3 5]\n [2 5 7 8 3 1 9 4 6]\n [6 1 3 5 4 9 7 2 8]]\n"
    }
   ],
   "source": [
    "def solve():\n",
    "    global grid\n",
    "    for x in range(9):\n",
    "        for y in range(9):\n",
    "            if grid[x,y] == 0:\n",
    "                for n in range(1,10):\n",
    "                    if valid(x,y,n):\n",
    "                        grid[x,y] = n\n",
    "                        solve()\n",
    "                        grid[x,y] = 0\n",
    "                return\n",
    "    print(grid)\n",
    "\n",
    "solve()\n"
   ]
  }
 ]
}