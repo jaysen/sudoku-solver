{
 "nbformat": 4,
 "nbformat_minor": 2,
 "metadata": {
  "language_info": {
   "name": "python",
   "codemirror_mode": {
    "name": "ipython",
    "version": 3
   },
   "version": "3.7.6-final"
  },
  "orig_nbformat": 2,
  "file_extension": ".py",
  "mimetype": "text/x-python",
  "name": "python",
  "npconvert_exporter": "python",
  "pygments_lexer": "ipython3",
  "version": 3,
  "kernelspec": {
   "name": "python37664bit0822db85378b41079fe888250b00ab42",
   "display_name": "Python 3.7.6 64-bit"
  }
 },
 "cells": [
  {
   "cell_type": "markdown",
   "metadata": {},
   "source": [
    "# Sudoku Solver\n"
   ]
  },
  {
   "cell_type": "markdown",
   "metadata": {},
   "source": [
    "## Setup\n",
    "Create example gridset. Printable using numpy array  \n",
    "test prints"
   ]
  },
  {
   "cell_type": "code",
   "execution_count": 58,
   "metadata": {},
   "outputs": [
    {
     "name": "stdout",
     "output_type": "stream",
     "text": "[[5 3 0 0 7 0 0 0 0]\n [6 0 0 1 9 5 0 0 0]\n [0 9 8 0 0 0 0 6 0]\n [8 0 0 0 6 0 0 0 3]\n [4 0 0 8 0 3 0 0 1]\n [7 0 0 0 2 0 0 0 6]\n [0 6 0 0 0 0 2 8 0]\n [0 0 0 4 1 9 0 0 5]\n [0 0 0 0 8 0 0 7 9]]\n\n[[3]\n [0]\n [9]\n [0]\n [0]\n [0]\n [6]\n [0]\n [0]]\n"
    }
   ],
   "source": [
    "import numpy as np\n",
    "\n",
    "GRIDSIZE = 9\n",
    "fullSet = {1, 2, 3, 4, 5, 6, 7, 8, 9}\n",
    "\n",
    "sugrid = np.matrix([[5,3,0,0,7,0,0,0,0],\n",
    "                    [6,0,0,1,9,5,0,0,0],\n",
    "                    [0,9,8,0,0,0,0,6,0],\n",
    "                    [8,0,0,0,6,0,0,0,3],\n",
    "                    [4,0,0,8,0,3,0,0,1],\n",
    "                    [7,0,0,0,2,0,0,0,6],\n",
    "                    [0,6,0,0,0,0,2,8,0],\n",
    "                    [0,0,0,4,1,9,0,0,5],\n",
    "                    [0,0,0,0,8,0,0,7,9]])\n",
    "\n",
    "print(sugrid)\n",
    "print()\n",
    "print(sugrid[0:9,1:2])\n"
   ]
  },
  {
   "cell_type": "markdown",
   "metadata": {},
   "source": [
    "## Function isValidInPosition(x,y,n) \n",
    "returns true if n is valid in position x,y - else false\n"
   ]
  },
  {
   "cell_type": "code",
   "execution_count": 147,
   "metadata": {},
   "outputs": [
    {
     "name": "stdout",
     "output_type": "stream",
     "text": "current value at x,y is  0\nvertical:\n[[0]\n [0]\n [8]\n [0]\n [0]\n [0]\n [0]\n [0]\n [0]]\nhorizontal:\n[[5 3 0 0 7 0 0 0 0]]\n\nlocal square origin:  0 0\nlocal square: \n[[5 3 0]\n [6 0 0]\n [0 9 8]]\n\nTrue\n"
    }
   ],
   "source": [
    "def isValidInPosition(x, y, n):\n",
    "    #test prints:\n",
    "    print(\"current value at x,y is \", sugrid[y,x])\n",
    "    print(\"vertical:\")\n",
    "    print(sugrid[0:9,x:x+1])\n",
    "    print(\"horizontal:\")\n",
    "    print(sugrid[y:y+1,0:9])\n",
    "    print()\n",
    "    # check vertical and horizontal\n",
    "    if (n in sugrid[0:9,x]): return False #vertical\n",
    "    if (n in sugrid[y:y+1,0:9]): return False #horizontal\n",
    "\n",
    "    # check local square\n",
    "    xO = (x // 3) * 3\n",
    "    yO = (y // 3) * 3\n",
    "    print(\"local square origin: \",xO,yO)\n",
    "    print(\"local square: \")\n",
    "    print(sugrid[yO:yO+3,xO:xO+3])\n",
    "    print()\n",
    "    if (n in sugrid[yO:yO+3,xO:xO+3]): return False\n",
    "\n",
    "    return True\n",
    "\n",
    "print(isValidInPosition(2,0,11))    "
   ]
  },
  {
   "cell_type": "code",
   "execution_count": 132,
   "metadata": {},
   "outputs": [
    {
     "data": {
      "text/plain": "7"
     },
     "execution_count": 132,
     "metadata": {},
     "output_type": "execute_result"
    }
   ],
   "source": [
    "sugrid[8,7]"
   ]
  }
 ]
}